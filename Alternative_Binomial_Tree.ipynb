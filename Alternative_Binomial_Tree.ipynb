{
 "cells": [
  {
   "cell_type": "code",
   "execution_count": 115,
   "metadata": {},
   "outputs": [],
   "source": [
    "import yfinance as yf\n",
    "import matplotlib.pyplot as plt\n",
    "import pandas as pd\n",
    "import numpy as np\n",
    "from scipy.stats import norm\n",
    "import time"
   ]
  },
  {
   "cell_type": "markdown",
   "metadata": {},
   "source": [
    "This file gives an alternative implementation of the binomial tree model using ***Binary Trees*** instead of Arrays."
   ]
  },
  {
   "cell_type": "code",
   "execution_count": 116,
   "metadata": {},
   "outputs": [],
   "source": [
    "# Definition of the class that models the node and utility functions\n",
    "\n",
    "class Node:\n",
    "    \n",
    "    def __init__(self, up=None, down=None, option=None, stock=None) -> None:\n",
    "        self.up = up\n",
    "        self.down = down\n",
    "        self.option = option\n",
    "        self.stock = stock\n",
    "        \n",
    "def print_tree(node, level=0, prefix=\"Root: \", is_left=None):\n",
    "    if node is not None:\n",
    "        if level == 0:\n",
    "            print(f\"{prefix}Option: {node.option}, Stock: {node.stock}\")\n",
    "        else:\n",
    "            print(\" \" * (level - 1) * 6, end=\"\")\n",
    "            print(\"|\" + (\"-- \" if is_left else \"\\\\-- \") + f\"Option: {node.option}, Stock: {node.stock}\")\n",
    "\n",
    "        if node.up is not None or node.down is not None:\n",
    "            print_tree(node.up, level + 1, \"Up: \", True)\n",
    "            print_tree(node.down, level + 1, \"Down: \", False)"
   ]
  },
  {
   "cell_type": "code",
   "execution_count": 117,
   "metadata": {},
   "outputs": [
    {
     "name": "stdout",
     "output_type": "stream",
     "text": [
      "[*********************100%%**********************]  1 of 1 completed\n",
      "\n",
      "\n",
      "Risk-neutral porbability of stock going up is -->  0.4669\n",
      "Risk-neutral porbability of stock going down is -->  0.5331\n"
     ]
    }
   ],
   "source": [
    "# Import historical data\n",
    "\n",
    "equity_data = yf.download(\"RR.L\", start=\"2021-11-27\", end=\"2023-11-27\")\n",
    "equity_data = pd.DataFrame(equity_data['Adj Close'])\n",
    "log_returns = np.log(equity_data['Adj Close']/equity_data['Adj Close'].shift(1))\n",
    "\n",
    "# Model parameter\n",
    "\n",
    "maturity = 0.5 # Time to Maturity in years\n",
    "S0 = equity_data['Adj Close'].iloc[-1] # last Stock price\n",
    "K = 200.6 #Strike Price\n",
    "r = 0.025 #Risk-free rate\n",
    "sigma = log_returns.std() * np.sqrt(252) #Volatility Rate\n",
    "payoff = \"put\"\n",
    "N = 4\n",
    "\n",
    "dT = float(maturity) / N   # Time interval\n",
    "up = np.exp(sigma * np.sqrt(dT))    # Up factor\n",
    "down = 1.0 / up   # Down factor \n",
    "\n",
    "compound_r = np.exp(r * dT)    # risk free compound return\n",
    "up_prob = (compound_r - down)/ (up - down)  # risk neutral probability of stock going up\n",
    "down_prob = 1.0 - up_prob           # risk neutral probability of stock going down\n",
    "print('\\n\\nRisk-neutral porbability of stock going up is --> ', up_prob.round(4))\n",
    "print('Risk-neutral porbability of stock going down is --> ', down_prob.round(4))\n",
    "\n",
    "__exec = 0.0 # a variable used to measure the execution time of this implementation of the binomial trees\n"
   ]
  },
  {
   "cell_type": "code",
   "execution_count": 118,
   "metadata": {},
   "outputs": [
    {
     "name": "stdout",
     "output_type": "stream",
     "text": [
      "Root: Option: None, Stock: 241.0\n",
      "|-- Option: None, Stock: 285.517\n",
      "      |-- Option: None, Stock: 338.2571\n",
      "            |-- Option: None, Stock: 400.7392\n",
      "                  |-- Option: None, Stock: 474.7629\n",
      "                  |\\-- Option: None, Stock: 338.2571\n",
      "            |\\-- Option: None, Stock: 285.517\n",
      "                  |-- Option: None, Stock: 338.2571\n",
      "                  |\\-- Option: None, Stock: 241.0\n",
      "      |\\-- Option: None, Stock: 241.0\n",
      "            |-- Option: None, Stock: 285.517\n",
      "                  |-- Option: None, Stock: 338.2571\n",
      "                  |\\-- Option: None, Stock: 241.0\n",
      "            |\\-- Option: None, Stock: 203.424\n",
      "                  |-- Option: None, Stock: 241.0\n",
      "                  |\\-- Option: None, Stock: 171.7067\n",
      "|\\-- Option: None, Stock: 203.424\n",
      "      |-- Option: None, Stock: 241.0\n",
      "            |-- Option: None, Stock: 285.517\n",
      "                  |-- Option: None, Stock: 338.2571\n",
      "                  |\\-- Option: None, Stock: 241.0\n",
      "            |\\-- Option: None, Stock: 203.424\n",
      "                  |-- Option: None, Stock: 241.0\n",
      "                  |\\-- Option: None, Stock: 171.7067\n",
      "      |\\-- Option: None, Stock: 171.7067\n",
      "            |-- Option: None, Stock: 203.424\n",
      "                  |-- Option: None, Stock: 241.0\n",
      "                  |\\-- Option: None, Stock: 171.7067\n",
      "            |\\-- Option: None, Stock: 144.9347\n",
      "                  |-- Option: None, Stock: 171.7067\n",
      "                  |\\-- Option: None, Stock: 122.3369\n"
     ]
    }
   ],
   "source": [
    "__strt = time.time()\n",
    "\n",
    "\n",
    "# Creating the Tree and Filling with stock prices forecasts\n",
    "\n",
    "root = Node(stock=S0.round(4))\n",
    "\n",
    "def forecast_stocks(root, height):\n",
    "    \n",
    "    if root is None or height == 0:\n",
    "        return\n",
    "    \n",
    "    root.up = Node(stock=(root.stock * up).round(4))\n",
    "    root.down = Node(stock=(root.stock * down).round(4))\n",
    "    \n",
    "    forecast_stocks(root.up, height - 1)\n",
    "    forecast_stocks(root.down, height - 1)\n",
    "    \n",
    "forecast_stocks(root, N)\n",
    "print_tree(root)\n",
    "\n",
    "__end = time.time()\n",
    "__exec = (__end - __strt)\n"
   ]
  },
  {
   "cell_type": "code",
   "execution_count": 119,
   "metadata": {},
   "outputs": [
    {
     "name": "stdout",
     "output_type": "stream",
     "text": [
      "Root: Option: 14.3154, Stock: 241.0\n",
      "|-- Option: 4.3363, Stock: 285.517\n",
      "      |-- Option: 0.0, Stock: 338.2571\n",
      "            |-- Option: 0.0, Stock: 400.7392\n",
      "                  |-- Option: 0.0, Stock: 474.7629\n",
      "                  |\\-- Option: 0.0, Stock: 338.2571\n",
      "            |\\-- Option: 0.0, Stock: 285.517\n",
      "                  |-- Option: 0.0, Stock: 338.2571\n",
      "                  |\\-- Option: 0.0, Stock: 241.0\n",
      "      |\\-- Option: 8.1598, Stock: 241.0\n",
      "            |-- Option: 0.0, Stock: 285.517\n",
      "                  |-- Option: 0.0, Stock: 338.2571\n",
      "                  |\\-- Option: 0.0, Stock: 241.0\n",
      "            |\\-- Option: 15.3546, Stock: 203.424\n",
      "                  |-- Option: 0.0, Stock: 241.0\n",
      "                  |\\-- Option: 28.8933, Stock: 171.7067\n",
      "|\\-- Option: 23.1398, Stock: 203.424\n",
      "      |-- Option: 8.1598, Stock: 241.0\n",
      "            |-- Option: 0.0, Stock: 285.517\n",
      "                  |-- Option: 0.0, Stock: 338.2571\n",
      "                  |\\-- Option: 0.0, Stock: 241.0\n",
      "            |\\-- Option: 15.3546, Stock: 203.424\n",
      "                  |-- Option: 0.0, Stock: 241.0\n",
      "                  |\\-- Option: 28.8933, Stock: 171.7067\n",
      "      |\\-- Option: 36.3961, Stock: 171.7067\n",
      "            |-- Option: 15.3546, Stock: 203.424\n",
      "                  |-- Option: 0.0, Stock: 241.0\n",
      "                  |\\-- Option: 28.8933, Stock: 171.7067\n",
      "            |\\-- Option: 55.0394, Stock: 144.9347\n",
      "                  |-- Option: 28.8933, Stock: 171.7067\n",
      "                  |\\-- Option: 78.2631, Stock: 122.3369\n"
     ]
    }
   ],
   "source": [
    "__strt = time.time()\n",
    "\n",
    "# From the forcasted stock, each option value is forcasted\n",
    "\n",
    "def calc_option(root, payoff):\n",
    "    \n",
    "    # Base case where the node is a final node --> stock and option prices at maturity\n",
    "    if root.up is None or root.down is None:\n",
    "        if payoff == \"call\":\n",
    "            root.option = np.maximum(root.stock - K, 0.0).round(4)  # Call option price at maturity date = payoff of the option at maturity\n",
    "        elif payoff == \"put\":\n",
    "            root.option = np.maximum(K - root.stock, 0.0).round(4)  # Put option price at maturity date = payoff of the option at maturity\n",
    "        return\n",
    "    \n",
    "    # Calculate option price for nodes one step before maturity\n",
    "    calc_option(root.up, payoff)\n",
    "    calc_option(root.down, payoff)\n",
    "    \n",
    "    # Calculate option price for the root node\n",
    "    if root.option is None:  # If the root's option price is not calculated yet\n",
    "        root.option = (np.exp(-r * dT) * ((up_prob * root.up.option) + (down_prob * root.down.option))).round(4)\n",
    "    \n",
    "calc_option(root, payoff=payoff)\n",
    "print_tree(root)\n",
    "\n",
    "__end = time.time()\n",
    "__exec += (__end - __strt)"
   ]
  },
  {
   "cell_type": "code",
   "execution_count": 120,
   "metadata": {},
   "outputs": [
    {
     "name": "stdout",
     "output_type": "stream",
     "text": [
      "Rolls Royce European Put Option Price with this implementation of Binomial Tree model--> 14.3154\n",
      "The total execution time is --> 0.005756 seconds\n"
     ]
    }
   ],
   "source": [
    "print(f'Rolls Royce European Put Option Price with this implementation of Binomial Tree model--> {root.option.round(4)}')\n",
    "\n",
    "print(f'The total execution time is --> {np.round(__exec, 6)} seconds')"
   ]
  }
 ],
 "metadata": {
  "kernelspec": {
   "display_name": "Python 3",
   "language": "python",
   "name": "python3"
  },
  "language_info": {
   "codemirror_mode": {
    "name": "ipython",
    "version": 3
   },
   "file_extension": ".py",
   "mimetype": "text/x-python",
   "name": "python",
   "nbconvert_exporter": "python",
   "pygments_lexer": "ipython3",
   "version": "3.12.0"
  }
 },
 "nbformat": 4,
 "nbformat_minor": 2
}
